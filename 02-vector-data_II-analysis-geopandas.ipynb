{
 "cells": [
  {
   "cell_type": "markdown",
   "id": "faa65b59",
   "metadata": {},
   "source": [
    "# Введение в анализ векторных данных с помощью пакета `geopandas`\n",
    "\n",
    "[GeoPandas](https://geopandas.org/) [1] — это пакет Python, который расширяет возможности очень популярной библиотеки Pandas и предоставляет возможность читать, анализировать и визуализировать геопространственные данные. Основными структурами данных в GeoPandas являются `GeoSeries` и `GeoDataFrame`. При работе с пространственными данными они имеют расширенные возможности по сравению с `Series` и `DataFrame`. Основное отличие `GeoDataFrame` - она содержит один столбец с вектроными данными в виде shapely объектов (точки, линии, полигоны, мультиполигоны и т. д.), обычно именуемый `geometry`."
   ]
  },
  {
   "cell_type": "markdown",
   "id": "47b88e99",
   "metadata": {},
   "source": [
    "## Начало работы с `geopandas`\n",
    "\n",
    "Подобно подключению библиотеки pandas как `pd`, мы будем подключать geopandas как `gpd`:"
   ]
  },
  {
   "cell_type": "code",
   "execution_count": 3,
   "id": "8dc0c3d0",
   "metadata": {
    "tags": []
   },
   "outputs": [],
   "source": [
    "import geopandas as gpd"
   ]
  },
  {
   "cell_type": "markdown",
   "id": "9b4ee3e0",
   "metadata": {},
   "source": [
    "## Чтение геопростанственных данных из shape-файла\n",
    "\n",
    "В `geopandas`, мы можем использовать функцию `.from_file()` для чтения в различных форматах данных (включая файлы *.shp*). В моей папке содержатся некоторые данные о границах морских объектов всемирного наследия ЮНЕСКО (доступны по ссылке - [UNESCO World Heritage Marine Sites](https://www.marineregions.org/download_file.php?name=WorldMarineHeritageSites_v2.zip) [2]). Cначала определим путь к скаченному архиву:"
   ]
  },
  {
   "cell_type": "code",
   "execution_count": 1,
   "id": "606cfa1c",
   "metadata": {
    "tags": []
   },
   "outputs": [
    {
     "name": "stdout",
     "output_type": "stream",
     "text": [
      "C:\\Users\\user\\py-proj\\course\\02-data\\shapefiles\\unesco\\WorldMarineHeritageSites_v2.zip\n"
     ]
    }
   ],
   "source": [
    "from pathlib import Path\n",
    "\n",
    "data_folder = Path('~/py-proj/course/02-data/shapefiles/unesco').expanduser()\n",
    "fn = data_folder / 'WorldMarineHeritageSites_v2.zip'\n",
    "print(fn)"
   ]
  },
  {
   "cell_type": "markdown",
   "id": "97366979-b3f7-4345-a589-a00a0e895730",
   "metadata": {},
   "source": [
    "Теперь мы можем указать полный путь к файлу `fn` в качестве единственного аргумента функции `from_file`\n",
    "Здесь же проверим тип переменной `data`, содержащей считанные геопространственные данные"
   ]
  },
  {
   "cell_type": "code",
   "execution_count": 4,
   "id": "db42e539",
   "metadata": {
    "tags": []
   },
   "outputs": [
    {
     "data": {
      "text/plain": [
       "geopandas.geodataframe.GeoDataFrame"
      ]
     },
     "execution_count": 4,
     "metadata": {},
     "output_type": "execute_result"
    }
   ],
   "source": [
    "data = gpd.read_file(fn)\n",
    "type(data)"
   ]
  },
  {
   "cell_type": "code",
   "execution_count": 6,
   "id": "10d2b17d-11bd-4628-af0d-fb4780145077",
   "metadata": {
    "tags": []
   },
   "outputs": [
    {
     "data": {
      "text/plain": [
       "34"
      ]
     },
     "execution_count": 6,
     "metadata": {},
     "output_type": "execute_result"
    }
   ],
   "source": [
    "data['COUNTRY'].nunique()"
   ]
  },
  {
   "cell_type": "markdown",
   "id": "2028763e",
   "metadata": {},
   "source": [
    "Здесь мы видим, что переменная `data` - структура данных `GeoDataFrame`, предоставляющая расширенный функционал для работы с пространственными данными. Мы можем применить многие распространенные методы `pandas` для изучения содержимого. Рассмотрим подробнее первые пять строк данных:"
   ]
  },
  {
   "cell_type": "code",
   "execution_count": 5,
   "id": "64f2c58f",
   "metadata": {
    "tags": []
   },
   "outputs": [
    {
     "data": {
      "text/html": [
       "<div>\n",
       "<style scoped>\n",
       "    .dataframe tbody tr th:only-of-type {\n",
       "        vertical-align: middle;\n",
       "    }\n",
       "\n",
       "    .dataframe tbody tr th {\n",
       "        vertical-align: top;\n",
       "    }\n",
       "\n",
       "    .dataframe thead th {\n",
       "        text-align: right;\n",
       "    }\n",
       "</style>\n",
       "<table border=\"1\" class=\"dataframe\">\n",
       "  <thead>\n",
       "    <tr style=\"text-align: right;\">\n",
       "      <th></th>\n",
       "      <th>FULL_NAME</th>\n",
       "      <th>COUNTRY</th>\n",
       "      <th>YEAR</th>\n",
       "      <th>BEAUTY</th>\n",
       "      <th>GEOLOGY</th>\n",
       "      <th>ECOLOGY</th>\n",
       "      <th>HABITAT</th>\n",
       "      <th>LONG_WHC</th>\n",
       "      <th>LAT_WHC</th>\n",
       "      <th>SOURCE</th>\n",
       "      <th>BUFFER</th>\n",
       "      <th>URL</th>\n",
       "      <th>MRGID</th>\n",
       "      <th>REFID</th>\n",
       "      <th>AREA_KM2</th>\n",
       "      <th>geometry</th>\n",
       "    </tr>\n",
       "  </thead>\n",
       "  <tbody>\n",
       "    <tr>\n",
       "      <th>0</th>\n",
       "      <td>Aldabra Atoll</td>\n",
       "      <td>Seychelles</td>\n",
       "      <td>1982</td>\n",
       "      <td>1</td>\n",
       "      <td>0</td>\n",
       "      <td>1</td>\n",
       "      <td>1</td>\n",
       "      <td>46.337956</td>\n",
       "      <td>-9.416782689</td>\n",
       "      <td>UNESCO World Heritage Centre</td>\n",
       "      <td>false</td>\n",
       "      <td>http://whc.unesco.org/en/list/185</td>\n",
       "      <td>26836</td>\n",
       "      <td>185</td>\n",
       "      <td>495.0</td>\n",
       "      <td>POLYGON ((46.43239 -9.35855, 46.45735 -9.35992...</td>\n",
       "    </tr>\n",
       "    <tr>\n",
       "      <th>1</th>\n",
       "      <td>Archipiélago de Revillagigedo</td>\n",
       "      <td>Mexico</td>\n",
       "      <td>2016</td>\n",
       "      <td>1</td>\n",
       "      <td>0</td>\n",
       "      <td>1</td>\n",
       "      <td>1</td>\n",
       "      <td>-110.9752778</td>\n",
       "      <td>18.78805556</td>\n",
       "      <td>UNESCO World Heritage Centre</td>\n",
       "      <td>false</td>\n",
       "      <td>http://whc.unesco.org/en/list/1510</td>\n",
       "      <td>64215</td>\n",
       "      <td>1510</td>\n",
       "      <td>6375.0</td>\n",
       "      <td>MULTIPOLYGON (((-114.68718 18.16876, -114.7395...</td>\n",
       "    </tr>\n",
       "    <tr>\n",
       "      <th>2</th>\n",
       "      <td>Archipiélago de Revillagigedo</td>\n",
       "      <td>Mexico</td>\n",
       "      <td>2016</td>\n",
       "      <td>1</td>\n",
       "      <td>0</td>\n",
       "      <td>1</td>\n",
       "      <td>1</td>\n",
       "      <td>-110.9752778</td>\n",
       "      <td>18.78805556</td>\n",
       "      <td>UNESCO World Heritage Centre</td>\n",
       "      <td>true</td>\n",
       "      <td>http://whc.unesco.org/en/list/1510</td>\n",
       "      <td>64215</td>\n",
       "      <td>1510</td>\n",
       "      <td>141764.0</td>\n",
       "      <td>POLYGON ((-115.47139 17.65528, -115.47139 20.0...</td>\n",
       "    </tr>\n",
       "    <tr>\n",
       "      <th>3</th>\n",
       "      <td>Area de Conservación Guanacaste</td>\n",
       "      <td>Costa Rica</td>\n",
       "      <td>1999</td>\n",
       "      <td>0</td>\n",
       "      <td>0</td>\n",
       "      <td>1</td>\n",
       "      <td>1</td>\n",
       "      <td>-85.81603029</td>\n",
       "      <td>10.76320069</td>\n",
       "      <td>UNESCO World Heritage Centre</td>\n",
       "      <td>false</td>\n",
       "      <td>http://whc.unesco.org/en/list/928</td>\n",
       "      <td>26837</td>\n",
       "      <td>928</td>\n",
       "      <td>1452.0</td>\n",
       "      <td>MULTIPOLYGON (((-85.57398 11.04824, -85.56947 ...</td>\n",
       "    </tr>\n",
       "    <tr>\n",
       "      <th>4</th>\n",
       "      <td>Banc d'Arguin National Park</td>\n",
       "      <td>Mauritania</td>\n",
       "      <td>1989</td>\n",
       "      <td>0</td>\n",
       "      <td>0</td>\n",
       "      <td>1</td>\n",
       "      <td>1</td>\n",
       "      <td>-16.4035691</td>\n",
       "      <td>20.0775406</td>\n",
       "      <td>UNESCO World Heritage Centre</td>\n",
       "      <td>false</td>\n",
       "      <td>http://whc.unesco.org/en/list/506</td>\n",
       "      <td>26838</td>\n",
       "      <td>506</td>\n",
       "      <td>11958.0</td>\n",
       "      <td>POLYGON ((-16.06520 19.39622, -16.08443 19.342...</td>\n",
       "    </tr>\n",
       "  </tbody>\n",
       "</table>\n",
       "</div>"
      ],
      "text/plain": [
       "                         FULL_NAME     COUNTRY  YEAR BEAUTY GEOLOGY ECOLOGY   \n",
       "0                    Aldabra Atoll  Seychelles  1982      1       0       1  \\\n",
       "1    Archipiélago de Revillagigedo      Mexico  2016      1       0       1   \n",
       "2    Archipiélago de Revillagigedo      Mexico  2016      1       0       1   \n",
       "3  Area de Conservación Guanacaste  Costa Rica  1999      0       0       1   \n",
       "4      Banc d'Arguin National Park  Mauritania  1989      0       0       1   \n",
       "\n",
       "  HABITAT      LONG_WHC       LAT_WHC                        SOURCE BUFFER   \n",
       "0       1     46.337956  -9.416782689  UNESCO World Heritage Centre  false  \\\n",
       "1       1  -110.9752778   18.78805556  UNESCO World Heritage Centre  false   \n",
       "2       1  -110.9752778   18.78805556  UNESCO World Heritage Centre   true   \n",
       "3       1  -85.81603029   10.76320069  UNESCO World Heritage Centre  false   \n",
       "4       1   -16.4035691    20.0775406  UNESCO World Heritage Centre  false   \n",
       "\n",
       "                                  URL  MRGID REFID  AREA_KM2   \n",
       "0   http://whc.unesco.org/en/list/185  26836   185     495.0  \\\n",
       "1  http://whc.unesco.org/en/list/1510  64215  1510    6375.0   \n",
       "2  http://whc.unesco.org/en/list/1510  64215  1510  141764.0   \n",
       "3   http://whc.unesco.org/en/list/928  26837   928    1452.0   \n",
       "4   http://whc.unesco.org/en/list/506  26838   506   11958.0   \n",
       "\n",
       "                                            geometry  \n",
       "0  POLYGON ((46.43239 -9.35855, 46.45735 -9.35992...  \n",
       "1  MULTIPOLYGON (((-114.68718 18.16876, -114.7395...  \n",
       "2  POLYGON ((-115.47139 17.65528, -115.47139 20.0...  \n",
       "3  MULTIPOLYGON (((-85.57398 11.04824, -85.56947 ...  \n",
       "4  POLYGON ((-16.06520 19.39622, -16.08443 19.342...  "
      ]
     },
     "execution_count": 5,
     "metadata": {},
     "output_type": "execute_result"
    }
   ],
   "source": [
    "data.head()"
   ]
  },
  {
   "cell_type": "markdown",
   "id": "f42d8a0a",
   "metadata": {},
   "source": [
    "#### Задание 2.2\n",
    "\n",
    "Выясните следующую информацию из наших входных данных, используя опыт работы в `pandas`:\n",
    "    \n",
    "- Количество объектов всемирного наследия ЮНЕСКО?\n",
    "- В скольких странах эти объекты расположены?\n",
    "- Какова суммарная площадь объектов (на основе столбца `AREA_KM2`)?"
   ]
  },
  {
   "cell_type": "markdown",
   "id": "cbe464d8",
   "metadata": {},
   "source": [
    "Давайте исследуем свои данные на карте. Для создания простой карты на основе данных `GeoDataFrame` можно использовать функцию .plot() из библиотеки `geopandas`, которая формирует карту на основе векторных объектов в столбце `geometry`. На самом деле `geopandas` использует библиотеку  для построения графиков `matplotlib`. Выполним быструю визуализацию наших данных:"
   ]
  },
  {
   "cell_type": "code",
   "execution_count": 6,
   "id": "cfb617c9",
   "metadata": {
    "collapsed": false,
    "jupyter": {
     "outputs_hidden": false
    },
    "tags": []
   },
   "outputs": [
    {
     "data": {
      "text/plain": [
       "<Axes: >"
      ]
     },
     "execution_count": 6,
     "metadata": {},
     "output_type": "execute_result"
    },
    {
     "data": {
      "image/png": "[encoded data removed]",
      "text/plain": [
       "<Figure size 640x480 with 1 Axes>"
      ]
     },
     "metadata": {},
     "output_type": "display_data"
    }
   ],
   "source": [
    "data.plot()"
   ]
  },
  {
   "cell_type": "markdown",
   "id": "40dd1f34",
   "metadata": {},
   "source": [
    "_**Рис. 1**. Объекты всемирного наследия ЮНЕСКО на карте_\n",
    "\n",
    "Теперь у нас есть общее представление о геометрии этих данных. Оси x и y на графике основаны на значениях координат в столбце `geometry`. В нашем случае это географические координаты в градусах. Как мы видим, объекты ЮНЕСКО расположены в самых разных местах северного и в южного полушарий Земли."
   ]
  },
  {
   "cell_type": "markdown",
   "id": "861f9bff",
   "metadata": {},
   "source": [
    "## Векторные объекты в `geopandas`\n",
    "\n",
    "Особенность структуры данных `GeoDataFrame` является столбец для хранения векторных объектов (точки, линии, полигоны) с типичным именем `geometry`. Посмотрим на столбец `geometry` в наших данных:"
   ]
  },
  {
   "cell_type": "code",
   "execution_count": 7,
   "id": "eeaf22f4",
   "metadata": {
    "collapsed": false,
    "jupyter": {
     "outputs_hidden": false
    },
    "tags": []
   },
   "outputs": [
    {
     "data": {
      "text/plain": [
       "0    POLYGON ((46.43239 -9.35855, 46.45735 -9.35992...\n",
       "1    MULTIPOLYGON (((-114.68718 18.16876, -114.7395...\n",
       "2    POLYGON ((-115.47139 17.65528, -115.47139 20.0...\n",
       "3    MULTIPOLYGON (((-85.57398 11.04824, -85.56947 ...\n",
       "4    POLYGON ((-16.06520 19.39622, -16.08443 19.342...\n",
       "Name: geometry, dtype: geometry"
      ]
     },
     "execution_count": 7,
     "metadata": {},
     "output_type": "execute_result"
    }
   ],
   "source": [
    "data[\"geometry\"].head()"
   ]
  },
  {
   "cell_type": "markdown",
   "id": "ee7b7cce",
   "metadata": {},
   "source": [
    "Как мы видим, `geometry` столбец содержит полигоны (`POLYGON`) и набор полигонов (`MULTIPOLYGON`). Поскольку эти полигоны являются объектами библиотеки `Shapely`, мы можем использовать соответсвующие методы и в `geopandas`. Многие методы могут быть применены сразу ко всем объектам в структуре данных `GeoDataFrame`:"
   ]
  },
  {
   "cell_type": "code",
   "execution_count": 8,
   "id": "582806b2",
   "metadata": {},
   "outputs": [
    {
     "name": "stderr",
     "output_type": "stream",
     "text": [
      "C:\\Users\\user\\AppData\\Local\\Temp\\ipykernel_5580\\3282792761.py:1: UserWarning: Geometry is in a geographic CRS. Results from 'area' are likely incorrect. Use 'GeoSeries.to_crs()' to re-project geometries to a projected CRS before this operation.\n",
      "\n",
      "  data[\"geometry\"].area.head()\n"
     ]
    },
    {
     "data": {
      "text/plain": [
       "0     0.040720\n",
       "1     0.546434\n",
       "2    12.145877\n",
       "3     0.120061\n",
       "4     1.032630\n",
       "dtype: float64"
      ]
     },
     "execution_count": 8,
     "metadata": {},
     "output_type": "execute_result"
    }
   ],
   "source": [
    "data[\"geometry\"].area.head()"
   ]
  },
  {
   "cell_type": "markdown",
   "id": "05b2057b-67c8-4443-baa2-dba527805635",
   "metadata": {},
   "source": [
    "Рассчитаем площади объектов всемирного наследия ЮНЕСКО более простым способом, сохраним их в новый столбец `area_km2` и выведем на экран (поскольку координаты в градусах - резульаты будут неточны)"
   ]
  },
  {
   "cell_type": "code",
   "execution_count": 9,
   "id": "997fc7d0-fda3-4dec-884f-6e631a78d5c7",
   "metadata": {
    "tags": []
   },
   "outputs": [
    {
     "name": "stderr",
     "output_type": "stream",
     "text": [
      "C:\\Users\\user\\AppData\\Local\\Temp\\ipykernel_5580\\3232119693.py:2: UserWarning: Geometry is in a geographic CRS. Results from 'area' are likely incorrect. Use 'GeoSeries.to_crs()' to re-project geometries to a projected CRS before this operation.\n",
      "\n",
      "  data[\"area_km2\"] = data.area * 111 ** 2\n"
     ]
    },
    {
     "data": {
      "text/plain": [
       "0       501.716941\n",
       "1      6732.612778\n",
       "2    149649.352422\n",
       "3      1479.274824\n",
       "4     12723.033217\n",
       "Name: area_km2, dtype: float64"
      ]
     },
     "execution_count": 9,
     "metadata": {},
     "output_type": "execute_result"
    }
   ],
   "source": [
    "# Get area and convert from deg to km2\n",
    "data[\"area_km2\"] = data.area * 111 ** 2\n",
    "\n",
    "#output area_km2 column\n",
    "data[\"area_km2\"].head()"
   ]
  },
  {
   "cell_type": "markdown",
   "id": "0490560a",
   "metadata": {},
   "source": [
    "Точно также мы можем определить геометрический центр тяжести (`centroid`), протяженность (`length`), границы (`bounds`) каждого объекта:"
   ]
  },
  {
   "cell_type": "code",
   "execution_count": 10,
   "id": "8c7ced87-0bf1-4713-bec3-53c8c8cd6065",
   "metadata": {
    "tags": []
   },
   "outputs": [
    {
     "name": "stdout",
     "output_type": "stream",
     "text": [
      "0      POINT (46.34820 -9.41965)\n",
      "1    POINT (-112.06444 18.82763)\n",
      "2    POINT (-112.80668 18.83214)\n",
      "3     POINT (-85.64729 10.84852)\n",
      "4     POINT (-16.40360 20.07845)\n",
      "dtype: geometry\n",
      "0      95.730758\n",
      "1     586.434606\n",
      "2    2306.194606\n",
      "3     440.114043\n",
      "4     489.796903\n",
      "dtype: float64\n",
      "         minx       miny        maxx       maxy\n",
      "0   46.187185  -9.506917   46.537785  -9.351308\n",
      "1 -114.942339  18.162960 -110.617662  19.501120\n",
      "2 -115.471389  17.655278 -110.078056  20.008611\n",
      "3  -86.001389  10.592997  -85.255054  11.050803\n",
      "4  -16.751544  19.341806  -15.963423  20.834473\n"
     ]
    },
    {
     "name": "stderr",
     "output_type": "stream",
     "text": [
      "C:\\Users\\user\\AppData\\Local\\Temp\\ipykernel_5580\\3035340223.py:1: UserWarning: Geometry is in a geographic CRS. Results from 'centroid' are likely incorrect. Use 'GeoSeries.to_crs()' to re-project geometries to a projected CRS before this operation.\n",
      "\n",
      "  print(data.centroid.head())\n",
      "C:\\Users\\user\\AppData\\Local\\Temp\\ipykernel_5580\\3035340223.py:2: UserWarning: Geometry is in a geographic CRS. Results from 'length' are likely incorrect. Use 'GeoSeries.to_crs()' to re-project geometries to a projected CRS before this operation.\n",
      "\n",
      "  print(data.length.head() * 111)\n"
     ]
    }
   ],
   "source": [
    "print(data.centroid.head())\n",
    "print(data.length.head() * 111)\n",
    "print(data.bounds.head())"
   ]
  },
  {
   "cell_type": "markdown",
   "id": "7f7fd975-d531-4edb-8fb1-b24ff09792a0",
   "metadata": {},
   "source": [
    "#### Задание 2.3\n",
    "\n",
    "Используя опыт работы с библиотекой `pandas` выведите на экран ответы на следующие вопросы:\n",
    "\n",
    "- Какова минимальная, максимальная и средняя площадь объектов всемирного наследия ЮНЕСКО (на основе столбца `AREA_KM2`)?\n",
    "- Какой объект ЮНЕСКО, расположен за северным полярным кругом. Кратко напишите о нем (ссылка с описанием объекта -  в столбце `URL`)?"
   ]
  },
  {
   "cell_type": "markdown",
   "id": "98c064a1",
   "metadata": {},
   "source": [
    "## Запись данных в файл\n",
    "\n",
    "Можно экспортировать пространственные данные в различные форматы данных (не только в формате `.shp`, но и, например, `.geojson`), используя метод `.to_file()` из библиотеки `geopandas`:"
   ]
  },
  {
   "cell_type": "code",
   "execution_count": 11,
   "id": "5803bf11",
   "metadata": {
    "tags": []
   },
   "outputs": [],
   "source": [
    "# Create a output path for the data\n",
    "output_fp = data_folder / \"UNESCO_objects.geojson\"\n",
    "\n",
    "# Write the file\n",
    "data.to_file(output_fp, driver='GeoJSON')"
   ]
  },
  {
   "cell_type": "markdown",
   "id": "ea0d867d-5031-4d0a-b230-ab39e553505c",
   "metadata": {},
   "source": [
    "Читаем данные из сохраненного файла и проверяем содержимое:"
   ]
  },
  {
   "cell_type": "code",
   "execution_count": 12,
   "id": "49d317f9",
   "metadata": {
    "tags": []
   },
   "outputs": [
    {
     "name": "stdout",
     "output_type": "stream",
     "text": [
      "                         FULL_NAME     COUNTRY  YEAR BEAUTY GEOLOGY ECOLOGY   \n",
      "0                    Aldabra Atoll  Seychelles  1982      1       0       1  \\\n",
      "1    Archipiélago de Revillagigedo      Mexico  2016      1       0       1   \n",
      "2    Archipiélago de Revillagigedo      Mexico  2016      1       0       1   \n",
      "3  Area de Conservación Guanacaste  Costa Rica  1999      0       0       1   \n",
      "4      Banc d'Arguin National Park  Mauritania  1989      0       0       1   \n",
      "\n",
      "  HABITAT      LONG_WHC       LAT_WHC                        SOURCE BUFFER   \n",
      "0       1     46.337956  -9.416782689  UNESCO World Heritage Centre  false  \\\n",
      "1       1  -110.9752778   18.78805556  UNESCO World Heritage Centre  false   \n",
      "2       1  -110.9752778   18.78805556  UNESCO World Heritage Centre   true   \n",
      "3       1  -85.81603029   10.76320069  UNESCO World Heritage Centre  false   \n",
      "4       1   -16.4035691    20.0775406  UNESCO World Heritage Centre  false   \n",
      "\n",
      "                                  URL  MRGID REFID       AREA_KM2   \n",
      "0   http://whc.unesco.org/en/list/185  26836   185     501.716941  \\\n",
      "1  http://whc.unesco.org/en/list/1510  64215  1510    6732.612778   \n",
      "2  http://whc.unesco.org/en/list/1510  64215  1510  149649.352422   \n",
      "3   http://whc.unesco.org/en/list/928  26837   928    1479.274824   \n",
      "4   http://whc.unesco.org/en/list/506  26838   506   12723.033217   \n",
      "\n",
      "                                            geometry  \n",
      "0  POLYGON ((46.43239 -9.35855, 46.45735 -9.35992...  \n",
      "1  MULTIPOLYGON (((-114.68718 18.16876, -114.7395...  \n",
      "2  POLYGON ((-115.47139 17.65528, -115.47139 20.0...  \n",
      "3  MULTIPOLYGON (((-85.57398 11.04824, -85.56947 ...  \n",
      "4  POLYGON ((-16.06520 19.39622, -16.08443 19.342...  \n"
     ]
    },
    {
     "data": {
      "text/plain": [
       "<Axes: >"
      ]
     },
     "execution_count": 12,
     "metadata": {},
     "output_type": "execute_result"
    },
    {
     "data": {
      "image/png": "[encoded data removed]",
      "text/plain": [
       "<Figure size 640x480 with 1 Axes>"
      ]
     },
     "metadata": {},
     "output_type": "display_data"
    }
   ],
   "source": [
    "ds = gpd.read_file(output_fp)\n",
    "print(ds.head())\n",
    "ds.plot()"
   ]
  },
  {
   "cell_type": "markdown",
   "id": "deaaa5fe-e988-4334-bf5b-c890eba37ff0",
   "metadata": {},
   "source": [
    "### Список использованных источников\n",
    "\n",
    "1. https://geopandas.org/\n",
    "2. https://www.marineregions.org/download_file.php?name=WorldMarineHeritageSites_v2.zip"
   ]
  }
 ],
 "metadata": {
  "kernelspec": {
   "display_name": "Python 3 (ipykernel)",
   "language": "python",
   "name": "python3"
  },
  "language_info": {
   "codemirror_mode": {
    "name": "ipython",
    "version": 3
   },
   "file_extension": ".py",
   "mimetype": "text/x-python",
   "name": "python",
   "nbconvert_exporter": "python",
   "pygments_lexer": "ipython3",
   "version": "3.10.11"
  }
 },
 "nbformat": 4,
 "nbformat_minor": 5
}
