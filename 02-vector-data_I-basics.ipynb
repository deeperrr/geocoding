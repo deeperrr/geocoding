{
 "cells": [
  {
   "cell_type": "markdown",
   "id": "68393dc8",
   "metadata": {},
   "source": [
    "# Географические данные в Python: I — простые векторные объекты: \n",
    "\n",
    "Здесь мы узнаем, как работать с векторными объектами в Python с помощью библиотеки [shapely](https://shapely.readthedocs.io/en/stable/manual.html). Также мы будем использовать связанную библиотеку `geopandas`, которая позволяет манипулировать географическими данными в целом. Понимание того, как векторные объекты (`Geometry`) работают и могут быть созданы в Python, необходимо для решения дальнейших задач, поскольку являются базовами \"строительными блоками\", из которых строится эффективный анализ географических данных."
   ]
  },
  {
   "cell_type": "markdown",
   "id": "a8469fac",
   "metadata": {},
   "source": [
    "## `shapely` \n",
    "\n",
    "`Shapely` — это фундаментальный пакет Python для представления геометрии векторных данных на компьютере. Базовые знания библтотеки shapely важны для использования зависящих от него инструментов более высокого уровня, таких как `geopandas`.\n",
    "\n",
    "Объекты и методы, доступные в `shapely`, в целом соответсвуют спецификации [the Open Geospatial Consortium’s Simple Features Access Specification](https://www.ogc.org/standards/sfa) [1], что делает их совместимыми с различными ГИС.\n",
    "\n",
    "Полный список shapely объектов и методов см. в [интерактивном руководстве пользователя shapely](https://shapely.readthedocs.io/en/stable/manual.html)"
   ]
  },
  {
   "cell_type": "markdown",
   "id": "2e91c9c5",
   "metadata": {},
   "source": [
    "### Создание точек\n",
    "\n",
    "Для создания точечного объекта с помощью shapely импортируем подкласс геометрических объектов (`Point`), из класса shapely.geometry, содержащего все доступные типы геометрии. Затем мы просто указываем горизонтальные координаты `x` и `y` в подклассе Point() (с возможной вертикальной z-координатой), который создаст для нас точки в двухмерном (`point`) и трехмерном (`point3D`) пространстве:"
   ]
  },
  {
   "cell_type": "code",
   "execution_count": 21,
   "id": "878e4187",
   "metadata": {
    "tags": []
   },
   "outputs": [
    {
     "data": {
      "image/svg+xml": [
       "<svg xmlns=\"http://www.w3.org/2000/svg\" xmlns:xlink=\"http://www.w3.org/1999/xlink\" width=\"100.0\" height=\"100.0\" viewBox=\"1.2000000000000002 4.2 2.0 2.0\" preserveAspectRatio=\"xMinYMin meet\"><g transform=\"matrix(1,0,0,-1,0,10.4)\"><circle cx=\"2.2\" cy=\"5.2\" r=\"0.06\" stroke=\"#555555\" stroke-width=\"0.02\" fill=\"#66cc99\" opacity=\"0.6\" /></g></svg>"
      ],
      "text/plain": [
       "<POINT (2.2 5.2)>"
      ]
     },
     "execution_count": 21,
     "metadata": {},
     "output_type": "execute_result"
    }
   ],
   "source": [
    "from shapely.geometry import Point\n",
    "\n",
    "point = Point(2.2, 5.2)\n",
    "point3D = Point(3.3, -4.5, 6)\n",
    "\n",
    "point"
   ]
  },
  {
   "cell_type": "markdown",
   "id": "747afbae",
   "metadata": {},
   "source": [
    "_**Рис. 1**. ВИЗУАЛИЗИРОВАННАЯ ТОЧКА._\n",
    "\n",
    "Обратите внимание, что Jupyter Notebook автоматически визуализирует форму точки на экране.\n",
    "\n",
    "Выведем на экран текстовое представление о геометрии точки (при выводе буква Z обозначает трехмерные координаты)."
   ]
  },
  {
   "cell_type": "code",
   "execution_count": 2,
   "id": "fd5befd6",
   "metadata": {
    "collapsed": false,
    "jupyter": {
     "outputs_hidden": false
    }
   },
   "outputs": [
    {
     "name": "stdout",
     "output_type": "stream",
     "text": [
      "POINT (2.2 5.2)\n",
      "POINT Z (3.3 -4.5 6)\n"
     ]
    }
   ],
   "source": [
    "print(point)\n",
    "print(point3D)"
   ]
  },
  {
   "cell_type": "markdown",
   "id": "6beca2a9",
   "metadata": {},
   "source": [
    "Для извлечения координат из объекта Point в виде числовых значений используются следующие свойства:\n",
    "- `coords` (чтобы получить доступ к содержимому мы преобразовали результат в список);\n",
    "- можем получить доступ к координатам напрямую, используя свойства `x` и `y`;"
   ]
  },
  {
   "cell_type": "code",
   "execution_count": 3,
   "id": "0ef6c6a7",
   "metadata": {},
   "outputs": [
    {
     "name": "stdout",
     "output_type": "stream",
     "text": [
      "[(2.2, 5.2)]\n",
      "2.2\n",
      "5.2\n"
     ]
    }
   ],
   "source": [
    "# use property coords\n",
    "print(list(point.coords))\n",
    "\n",
    "# use properties x and y\n",
    "print(point.x)\n",
    "print(point.y)"
   ]
  },
  {
   "cell_type": "markdown",
   "id": "3c29e9d2",
   "metadata": {},
   "source": [
    "Аналогично для точки в трехмерном пространстве:"
   ]
  },
  {
   "cell_type": "code",
   "execution_count": 22,
   "id": "3cd70a17",
   "metadata": {},
   "outputs": [
    {
     "name": "stdout",
     "output_type": "stream",
     "text": [
      "[(3.3, -4.5, 6.0)]\n",
      "3.3\n",
      "-4.5\n",
      "6.0\n"
     ]
    }
   ],
   "source": [
    "# use property coords\n",
    "print(list(point3D.coords))\n",
    "\n",
    "# use properties x and y\n",
    "print(point3D.x)\n",
    "print(point3D.y)\n",
    "print(point3D.z)"
   ]
  },
  {
   "cell_type": "markdown",
   "id": "7641e6fa",
   "metadata": {},
   "source": [
    "### Создание линий\n",
    "\n",
    "Создание линий (`LineString`-объектов) очень похоже на создание точек. Нам нужно как минимум две точки для создания линии. Мы можем построить линию двумя способами:\n",
    "- использовать список объектов Point;\n",
    "- передать координаты точек в виде кортежей координат конструктору `LineString`"
   ]
  },
  {
   "cell_type": "code",
   "execution_count": 5,
   "id": "31ff39e0",
   "metadata": {
    "collapsed": false,
    "jupyter": {
     "outputs_hidden": false
    }
   },
   "outputs": [
    {
     "data": {
      "image/svg+xml": [
       "<svg xmlns=\"http://www.w3.org/2000/svg\" xmlns:xlink=\"http://www.w3.org/1999/xlink\" width=\"100.0\" height=\"100.0\" viewBox=\"0.9799999999999998 -0.32000000000000006 22.34 35.64\" preserveAspectRatio=\"xMinYMin meet\"><g transform=\"matrix(1,0,0,-1,0,35.0)\"><polyline fill=\"none\" stroke=\"#66cc99\" stroke-width=\"0.7128\" points=\"2.3,6.3 4.4,34.0 22.0,1.0\" opacity=\"0.8\" /></g></svg>"
      ],
      "text/plain": [
       "<LINESTRING (2.3 6.3, 4.4 34, 22 1)>"
      ]
     },
     "execution_count": 5,
     "metadata": {},
     "output_type": "execute_result"
    }
   ],
   "source": [
    "from shapely.geometry import Point, LineString\n",
    "\n",
    "p1 = Point(22, 13.4)\n",
    "p2 = Point(11, 2.3)\n",
    "p3 = Point(3.4, 5.5)\n",
    "\n",
    "l1 = LineString([p1, p2, p3])\n",
    "l2 = LineString([(2.3, 6.3), (4.4, 34), (22, 1)])\n",
    "\n",
    "l2"
   ]
  },
  {
   "cell_type": "markdown",
   "id": "b03324f1-e590-4be0-bd1d-a3a2acfb0f65",
   "metadata": {},
   "source": [
    "_**Рис. 2**. Визуализация линии._\n",
    "\n",
    " Получаем текстовое представление о геометрии точки - переменные `l1` и `l2` состоят из нескольких пар координат."
   ]
  },
  {
   "cell_type": "code",
   "execution_count": 6,
   "id": "4e5da9c8",
   "metadata": {},
   "outputs": [
    {
     "name": "stdout",
     "output_type": "stream",
     "text": [
      "LINESTRING (22 13.4, 11 2.3, 3.4 5.5)\n",
      "LINESTRING (2.3 6.3, 4.4 34, 22 1)\n"
     ]
    }
   ],
   "source": [
    "print(l1)\n",
    "print(l2)"
   ]
  },
  {
   "cell_type": "markdown",
   "id": "2fe4dc61",
   "metadata": {},
   "source": [
    "`LineString-объекты` имеют много полезных встроенных атрибутов и методов. Например, можно извлечь координаты, рассчитать длину линии, найти центр тяжести, создать точки вдоль линии на определенном расстоянии, вычислить ближайшее расстояние от линии до указанной точки или упростить геометрию. Полный список функций можно прочитать в [документации](https://shapely.readthedocs.io/en/stable/properties.html) [3]. Здесь мы рассмотрим лишь некоторые:"
   ]
  },
  {
   "cell_type": "code",
   "execution_count": 7,
   "id": "bb87a20c",
   "metadata": {
    "collapsed": false,
    "jupyter": {
     "outputs_hidden": false
    }
   },
   "outputs": [
    {
     "name": "stdout",
     "output_type": "stream",
     "text": [
      "[(22.0, 13.4), (11.0, 2.3), (3.4, 5.5)]\n",
      "(22.0, 13.4)\n",
      "(3.4, 5.5)\n"
     ]
    }
   ],
   "source": [
    "# extract the coordinates of a LineString\n",
    "coords = list(l1.coords)\n",
    "# print x-y coordinates for all points\n",
    "print(coords)\n",
    "\n",
    "# print x-y coordinates for a first point\n",
    "print(coords[0])\n",
    "\n",
    "# print x-y coordinates for a last point\n",
    "print(coords[-1])"
   ]
  },
  {
   "cell_type": "markdown",
   "id": "757ebec8",
   "metadata": {},
   "source": [
    "Если вам нужно получить доступ ко всем x-координатам или ко всем y-координатам линии, вы можете сделать это напрямую с помощью `xy` атрибута:"
   ]
  },
  {
   "cell_type": "code",
   "execution_count": 8,
   "id": "4821c6d2",
   "metadata": {
    "collapsed": false,
    "jupyter": {
     "outputs_hidden": false
    }
   },
   "outputs": [
    {
     "name": "stdout",
     "output_type": "stream",
     "text": [
      "[22.0, 11.0, 3.4]\n",
      "[13.4, 2.3, 5.5]\n"
     ]
    }
   ],
   "source": [
    "xcoords = list(l1.xy[0])\n",
    "ycoords = list(l1.xy[1])\n",
    "\n",
    "print(xcoords)\n",
    "print(ycoords)"
   ]
  },
  {
   "cell_type": "markdown",
   "id": "d6c5ad83",
   "metadata": {},
   "source": [
    "Можно получить и другие атрибуты - такие как длина (`length`)  и геометрический центр линии (`centroid`), прямо из самого объекта:"
   ]
  },
  {
   "cell_type": "code",
   "execution_count": 9,
   "id": "3de3f95a",
   "metadata": {
    "collapsed": false,
    "jupyter": {
     "outputs_hidden": false
    }
   },
   "outputs": [
    {
     "name": "stdout",
     "output_type": "stream",
     "text": [
      "Length of our line: 65.18 units\n",
      "Centroid: POINT (9.001931406302425 18.62942962165468)\n"
     ]
    }
   ],
   "source": [
    "length = l2.length\n",
    "centroid = l2.centroid\n",
    "print(f\"Length of our line: {length:.2f} units\")\n",
    "print(f\"Centroid: {centroid}\")"
   ]
  },
  {
   "cell_type": "markdown",
   "id": "8fa1b9fd",
   "metadata": {},
   "source": [
    "Обратите внимание, что геометрический центр линии также  является точкой, т.е. `Point`-объектом библиотеки Shapely"
   ]
  },
  {
   "cell_type": "markdown",
   "id": "28e421a1",
   "metadata": {},
   "source": [
    "### Создание полигона\n",
    "\n",
    "Аналогично предыдущим примерам с точкой и линией создадим полигон (`Polygon`-объект). Полигон можно создать, передав список Point-объектов или список кортежей координат в качестве входных данных для  подкласса `Polygon`. Для этого требуется как минимум три кортежа координат. Возьмем  точки из примера выше."
   ]
  },
  {
   "cell_type": "code",
   "execution_count": 10,
   "id": "4969848f",
   "metadata": {
    "collapsed": false,
    "jupyter": {
     "outputs_hidden": false
    }
   },
   "outputs": [
    {
     "data": {
      "image/svg+xml": [
       "<svg xmlns=\"http://www.w3.org/2000/svg\" xmlns:xlink=\"http://www.w3.org/1999/xlink\" width=\"100.0\" height=\"100.0\" viewBox=\"2.6559999999999997 1.5559999999999996 20.088 12.588000000000001\" preserveAspectRatio=\"xMinYMin meet\"><g transform=\"matrix(1,0,0,-1,0,15.7)\"><path fill-rule=\"evenodd\" fill=\"#66cc99\" stroke=\"#555555\" stroke-width=\"0.40176\" opacity=\"0.6\" d=\"M 22.0,13.4 L 11.0,2.3 L 3.4,5.5 L 22.0,13.4 z\" /></g></svg>"
      ],
      "text/plain": [
       "<POLYGON ((22 13.4, 11 2.3, 3.4 5.5, 22 13.4))>"
      ]
     },
     "execution_count": 10,
     "metadata": {},
     "output_type": "execute_result"
    }
   ],
   "source": [
    "from shapely.geometry import Polygon\n",
    "\n",
    "poly = Polygon([p1, p2, p3])\n",
    "poly"
   ]
  },
  {
   "cell_type": "markdown",
   "id": "8503ab35-6437-47a3-85ce-2f375b6c1a5e",
   "metadata": {},
   "source": [
    "_**Рис. 3**. Визуализация полигона._"
   ]
  },
  {
   "cell_type": "code",
   "execution_count": 11,
   "id": "3be334d8",
   "metadata": {},
   "outputs": [
    {
     "name": "stdout",
     "output_type": "stream",
     "text": [
      "POLYGON ((22 13.4, 11 2.3, 3.4 5.5, 22 13.4))\n"
     ]
    }
   ],
   "source": [
    "print(poly)"
   ]
  },
  {
   "cell_type": "markdown",
   "id": "5de30468",
   "metadata": {},
   "source": [
    "Обратите внимание, что представление геометрического объекта `Polygon` имеет двойные круглые скобки. Это связано с тем, что  форма полигона может быть сложной и содержать не только внешние границы, но и  внутренние. Вы можете получить дополнительную информацию об объекте (не только об этом) запустив следующий код: Polygon?"
   ]
  },
  {
   "cell_type": "markdown",
   "id": "6c063ab5",
   "metadata": {},
   "source": [
    "Если мы хотим создать полигон с внутренней границей, мы можем сделать это, используя параметры shell - для указания внешней границы - и holes - для внутренней. Создадим сложный полигон с указанием координат внешней границы (`exter`) и внутренней (`inter`). Второй список содержит вложенные квадратные скобки, поскольку Polygon-объект может содержать несколько внутренних границ, образующих своего рода \"вырезы\" внутри полигона:"
   ]
  },
  {
   "cell_type": "code",
   "execution_count": 12,
   "id": "47cd3e68",
   "metadata": {},
   "outputs": [],
   "source": [
    "# Define the exterior\n",
    "exter = [(-180, 90), (-180, -90), (180, -90), (180, 90)]\n",
    "\n",
    "# Define the hole\n",
    "inter = [[(-170, 80), (-170, -80), (170, -80), (170, 80)]]"
   ]
  },
  {
   "cell_type": "markdown",
   "id": "7906660f",
   "metadata": {},
   "source": [
    "Сначала создадим простой полигон, содержащий только внешние границы:"
   ]
  },
  {
   "cell_type": "code",
   "execution_count": 13,
   "id": "79f577d5",
   "metadata": {},
   "outputs": [
    {
     "data": {
      "image/svg+xml": [
       "<svg xmlns=\"http://www.w3.org/2000/svg\" xmlns:xlink=\"http://www.w3.org/1999/xlink\" width=\"300\" height=\"208.8\" viewBox=\"-194.4 -104.4 388.8 208.8\" preserveAspectRatio=\"xMinYMin meet\"><g transform=\"matrix(1,0,0,-1,0,0.0)\"><path fill-rule=\"evenodd\" fill=\"#66cc99\" stroke=\"#555555\" stroke-width=\"2.592\" opacity=\"0.6\" d=\"M -180.0,90.0 L -180.0,-90.0 L 180.0,-90.0 L 180.0,90.0 L -180.0,90.0 z\" /></g></svg>"
      ],
      "text/plain": [
       "<POLYGON ((-180 90, -180 -90, 180 -90, 180 90, -180 90))>"
      ]
     },
     "execution_count": 13,
     "metadata": {},
     "output_type": "execute_result"
    }
   ],
   "source": [
    "poly_ext = Polygon(shell=exter)\n",
    "poly_ext"
   ]
  },
  {
   "cell_type": "markdown",
   "id": "aad2de60-c895-4bc6-9aed-021b40a896f5",
   "metadata": {},
   "source": [
    "_**Рис 4**. Визуализация простого полигона._\n",
    "\n",
    "Теперь создадим полигон с внутренней границей:"
   ]
  },
  {
   "cell_type": "code",
   "execution_count": 14,
   "id": "61b12644",
   "metadata": {},
   "outputs": [
    {
     "data": {
      "image/svg+xml": [
       "<svg xmlns=\"http://www.w3.org/2000/svg\" xmlns:xlink=\"http://www.w3.org/1999/xlink\" width=\"300\" height=\"208.8\" viewBox=\"-194.4 -104.4 388.8 208.8\" preserveAspectRatio=\"xMinYMin meet\"><g transform=\"matrix(1,0,0,-1,0,0.0)\"><path fill-rule=\"evenodd\" fill=\"#66cc99\" stroke=\"#555555\" stroke-width=\"2.592\" opacity=\"0.6\" d=\"M -180.0,90.0 L -180.0,-90.0 L 180.0,-90.0 L 180.0,90.0 L -180.0,90.0 z M -170.0,80.0 L -170.0,-80.0 L 170.0,-80.0 L 170.0,80.0 L -170.0,80.0 z\" /></g></svg>"
      ],
      "text/plain": [
       "<POLYGON ((-180 90, -180 -90, 180 -90, 180 90, -180 90), (-170 80, -170 -80,...>"
      ]
     },
     "execution_count": 14,
     "metadata": {},
     "output_type": "execute_result"
    }
   ],
   "source": [
    "poly_int = Polygon(shell=exter, holes=inter)\n",
    "poly_int"
   ]
  },
  {
   "cell_type": "markdown",
   "id": "7da4a6be",
   "metadata": {},
   "source": [
    "_**Рис 5**. Визуализация полигона с внешними и внутренними границами._\n",
    "\n",
    "Выведим на экран текстовое представление полигона:"
   ]
  },
  {
   "cell_type": "code",
   "execution_count": 15,
   "id": "67c2bdd4",
   "metadata": {},
   "outputs": [
    {
     "name": "stdout",
     "output_type": "stream",
     "text": [
      "POLYGON ((-180 90, -180 -90, 180 -90, 180 90, -180 90), (-170 80, -170 -80, 170 -80, 170 80, -170 80))\n"
     ]
    }
   ],
   "source": [
    "print(poly_int)"
   ]
  },
  {
   "cell_type": "markdown",
   "id": "95ba9743",
   "metadata": {},
   "source": [
    "У объекта Polygon также есть много полезных атрибутов и методов, например  `area`или `centroid`. Полный список можно найти в документации. Вот несколько атрибутов полигонов, которые часто бывают полезны при анализе географических данных:"
   ]
  },
  {
   "cell_type": "code",
   "execution_count": 16,
   "id": "be96e5a7",
   "metadata": {},
   "outputs": [
    {
     "name": "stdout",
     "output_type": "stream",
     "text": [
      "Polygon centroid:  POINT (12.133333333333333 7.0666666666666655)\n",
      "Polygon Area:  59.780000000000015\n",
      "Polygon Bounding Box:  (3.4, 2.3, 22.0, 13.4)\n",
      "Polygon Exterior:  LINEARRING (22 13.4, 11 2.3, 3.4 5.5, 22 13.4)\n",
      "Polygon Exterior Length:  44.0815977595283\n"
     ]
    }
   ],
   "source": [
    "print(\"Polygon centroid: \", poly.centroid)\n",
    "print(\"Polygon Area: \", poly.area)\n",
    "print(\"Polygon Bounding Box: \", poly.bounds)\n",
    "print(\"Polygon Exterior: \", poly.exterior)\n",
    "print(\"Polygon Exterior Length: \", poly.exterior.length)"
   ]
  },
  {
   "cell_type": "markdown",
   "id": "b0b8f977",
   "metadata": {},
   "source": [
    "С помощью конструктора библиотеки shapely `box` можно создать минимальную ограничивающую рамку с заданными координатами. Для этого используется информация о координатах нижнего левого и верхнего правого углов прямоугольника:"
   ]
  },
  {
   "cell_type": "code",
   "execution_count": 17,
   "id": "6a863ed7",
   "metadata": {},
   "outputs": [
    {
     "data": {
      "image/svg+xml": [
       "<svg xmlns=\"http://www.w3.org/2000/svg\" xmlns:xlink=\"http://www.w3.org/1999/xlink\" width=\"300\" height=\"208.8\" viewBox=\"-194.4 -104.4 388.8 208.8\" preserveAspectRatio=\"xMinYMin meet\"><g transform=\"matrix(1,0,0,-1,0,0.0)\"><path fill-rule=\"evenodd\" fill=\"#66cc99\" stroke=\"#555555\" stroke-width=\"2.592\" opacity=\"0.6\" d=\"M 180.0,-90.0 L 180.0,90.0 L -180.0,90.0 L -180.0,-90.0 L 180.0,-90.0 z\" /></g></svg>"
      ],
      "text/plain": [
       "<POLYGON ((180 -90, 180 90, -180 90, -180 -90, 180 -90))>"
      ]
     },
     "execution_count": 17,
     "metadata": {},
     "output_type": "execute_result"
    }
   ],
   "source": [
    "from shapely.geometry import box\n",
    "\n",
    "min_x, min_y = -180, -90\n",
    "max_x, max_y = 180, 90\n",
    "box_poly = box(minx=min_x, miny=min_y, maxx=max_x, maxy=max_y)\n",
    "box_poly"
   ]
  },
  {
   "cell_type": "markdown",
   "id": "3ca04e09-8bda-4ee3-adaa-be9221a10d6e",
   "metadata": {},
   "source": [
    "_**Рис 6**. Визуализация рамки._"
   ]
  },
  {
   "cell_type": "code",
   "execution_count": 18,
   "id": "560d3f75",
   "metadata": {},
   "outputs": [
    {
     "name": "stdout",
     "output_type": "stream",
     "text": [
      "POLYGON ((180 -90, 180 90, -180 90, -180 -90, 180 -90))\n"
     ]
    }
   ],
   "source": [
    "print(box_poly)"
   ]
  },
  {
   "cell_type": "markdown",
   "id": "30855618",
   "metadata": {},
   "source": [
    "На практике  функция `box` полезна, например, когда вы хотите выбрать все векторные объекты из определенной интересующей области."
   ]
  },
  {
   "cell_type": "markdown",
   "id": "4e5932b2",
   "metadata": {},
   "source": [
    "### Создание множественных геометрических объектов MultiPoint, MultiLineString и MultiPolygon"
   ]
  },
  {
   "cell_type": "markdown",
   "id": "1355f971",
   "metadata": {},
   "source": [
    "Для создания множественных геометрических объектов мы просто передаем список объектов `Point`, `LineString` или `Polygon` конструкторам `MultiPoint`, `MultiLineString` и `MultiPolygon` как указано ниже:"
   ]
  },
  {
   "cell_type": "code",
   "execution_count": 19,
   "id": "68841a11",
   "metadata": {},
   "outputs": [
    {
     "name": "stdout",
     "output_type": "stream",
     "text": [
      "MULTIPOINT (2 2, 3 3)\n",
      "MULTILINESTRING ((2 2, 3 3), (4 3, 6 4))\n",
      "MULTIPOLYGON (((0 0, 0 4, 4 4, 0 0)), ((6 6, 6 12, 12 12, 6 6)))\n"
     ]
    }
   ],
   "source": [
    "from shapely.geometry import MultiPoint, MultiLineString, MultiPolygon\n",
    "\n",
    "multipoint = MultiPoint([Point(2, 2), Point(3, 3)])\n",
    "print(multipoint)\n",
    "\n",
    "multiline = MultiLineString(\n",
    "    [LineString([(2, 2), (3, 3)]), LineString([(4, 3), (6, 4)])]\n",
    ")\n",
    "print(multiline)\n",
    "\n",
    "multipoly = MultiPolygon(\n",
    "    [Polygon([(0, 0), (0, 4), (4, 4)]), Polygon([(6, 6), (6, 12), (12, 12)])]\n",
    ")\n",
    "print(multipoly)"
   ]
  },
  {
   "cell_type": "markdown",
   "id": "b33c96be",
   "metadata": {},
   "source": [
    "### Задание 2.1\n",
    "\n",
    "Создайте эти фигуры с помощью библиотеки `Shapely`!\n",
    "\n",
    "- **Египетский треугольник**   \n",
    "- **Квадрат**    \n",
    "- **Круг** (используйте функцию `buffer` Point-объекта)"
   ]
  },
  {
   "cell_type": "markdown",
   "id": "81ffb278-06a9-4381-8618-cc53c7c30fab",
   "metadata": {
    "tags": []
   },
   "source": [
    "### Список использованных источников\n",
    "\n",
    "1. https://www.ogc.org/standards/sfa\n",
    "2. https://shapely.readthedocs.io/en/stable/manual.html\n",
    "3. https://shapely.readthedocs.io/en/stable/properties.html\n"
   ]
  }
 ],
 "metadata": {
  "kernelspec": {
   "display_name": "Python 3 (ipykernel)",
   "language": "python",
   "name": "python3"
  },
  "language_info": {
   "codemirror_mode": {
    "name": "ipython",
    "version": 3
   },
   "file_extension": ".py",
   "mimetype": "text/x-python",
   "name": "python",
   "nbconvert_exporter": "python",
   "pygments_lexer": "ipython3",
   "version": "3.10.11"
  }
 },
 "nbformat": 4,
 "nbformat_minor": 5
}
